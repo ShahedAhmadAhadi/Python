{
 "cells": [
  {
   "cell_type": "code",
   "execution_count": 1,
   "metadata": {},
   "outputs": [
    {
     "data": {
      "text/plain": [
       "'irtforiomti'"
      ]
     },
     "execution_count": 1,
     "metadata": {},
     "output_type": "execute_result"
    }
   ],
   "source": [
    "def reverseInParentheses(s):\n",
    "    for i in range(len(s)):\n",
    "        if s[i] == \"(\":\n",
    "            start = i\n",
    "        if s[i] == \")\":\n",
    "            end = i\n",
    "            return reverseInParentheses(s[:start] + s[start+1:end][::-1] + s[end+1:])\n",
    "    return s\n",
    "\n",
    "reverseInParentheses('(tri)for(itm(io))')"
   ]
  },
  {
   "cell_type": "code",
   "execution_count": null,
   "metadata": {},
   "outputs": [],
   "source": []
  }
 ],
 "metadata": {
  "kernelspec": {
   "display_name": "Python 3",
   "language": "python",
   "name": "python3"
  },
  "language_info": {
   "codemirror_mode": {
    "name": "ipython",
    "version": 3
   },
   "file_extension": ".py",
   "mimetype": "text/x-python",
   "name": "python",
   "nbconvert_exporter": "python",
   "pygments_lexer": "ipython3",
   "version": "3.7.3"
  }
 },
 "nbformat": 4,
 "nbformat_minor": 2
}
