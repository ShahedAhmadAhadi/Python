{
 "cells": [
  {
   "cell_type": "code",
   "execution_count": 12,
   "metadata": {},
   "outputs": [
    {
     "data": {
      "text/plain": [
       "6"
      ]
     },
     "execution_count": 12,
     "metadata": {},
     "output_type": "execute_result"
    }
   ],
   "source": [
    "# You are given an array of integers representing coordinates of obstacles situated on a straight line.\n",
    "\n",
    "# Assume that you are jumping from the point with coordinate 0 to the right.\n",
    "# You are allowed only to make jumps of the same length represented by some integer.\n",
    "\n",
    "# Find the minimal length of the jump enough to avoid all the obstacles.\n",
    "\n",
    "def avoidObstacles(inputArray):\n",
    "    num = 2\n",
    "    while True:\n",
    "        if all(i%num!=0 for i in inputArray):\n",
    "            return num\n",
    "        num += 1        \n",
    "        \n",
    "avoidObstacles([5, 8, 9, 13, 14])"
   ]
  },
  {
   "cell_type": "code",
   "execution_count": null,
   "metadata": {},
   "outputs": [],
   "source": []
  }
 ],
 "metadata": {
  "kernelspec": {
   "display_name": "Python 3",
   "language": "python",
   "name": "python3"
  },
  "language_info": {
   "codemirror_mode": {
    "name": "ipython",
    "version": 3
   },
   "file_extension": ".py",
   "mimetype": "text/x-python",
   "name": "python",
   "nbconvert_exporter": "python",
   "pygments_lexer": "ipython3",
   "version": "3.7.3"
  }
 },
 "nbformat": 4,
 "nbformat_minor": 2
}
