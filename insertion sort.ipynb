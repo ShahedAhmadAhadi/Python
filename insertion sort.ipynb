{
 "cells": [
  {
   "cell_type": "code",
   "execution_count": 16,
   "metadata": {},
   "outputs": [],
   "source": [
    "def sort_(lst):\n",
    "    for x in range(len(lst)):\n",
    "        if lst[x] < lst[x - 1] and x > 0:\n",
    "            lst[x], lst[x-1] = lst[x-1], lst[x]\n",
    "        for y in range(x - 1, 0, -1):\n",
    "            if lst[y] < lst[y - 1]:\n",
    "                lst[y], lst[y - 1] = lst[y - 1], lst[y]\n",
    "            else:\n",
    "                break\n",
    "    return lst"
   ]
  },
  {
   "cell_type": "code",
   "execution_count": 17,
   "metadata": {},
   "outputs": [
    {
     "name": "stdout",
     "output_type": "stream",
     "text": [
      "[76, 93, 61, 88, 27, 17, 76, 91, 70, 87, 34, 66, 77, 35, 100, 44, 35, 46, 10, 55]\n",
      "[76, 93, 61, 88, 27, 17, 76, 91, 70, 87, 34, 66, 77, 35, 100, 44, 35, 46, 10, 55]\n"
     ]
    }
   ],
   "source": [
    "from random import randint\n",
    "rand_list = [randint(0, 100) for i in range(20)]\n",
    "print(rand_list)\n",
    "print(rand_list)"
   ]
  },
  {
   "cell_type": "code",
   "execution_count": null,
   "metadata": {},
   "outputs": [],
   "source": []
  }
 ],
 "metadata": {
  "kernelspec": {
   "display_name": "Python 3",
   "language": "python",
   "name": "python3"
  },
  "language_info": {
   "codemirror_mode": {
    "name": "ipython",
    "version": 3
   },
   "file_extension": ".py",
   "mimetype": "text/x-python",
   "name": "python",
   "nbconvert_exporter": "python",
   "pygments_lexer": "ipython3",
   "version": "3.7.3"
  }
 },
 "nbformat": 4,
 "nbformat_minor": 2
}
