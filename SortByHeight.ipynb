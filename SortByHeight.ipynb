{
 "cells": [
  {
   "cell_type": "code",
   "execution_count": 15,
   "metadata": {},
   "outputs": [],
   "source": [
    "# Some people are standing in a row in a park. There are trees between them which cannot be moved.\n",
    "# Your task is to rearrange the people by their heights in a non-descending order without moving the trees.\n",
    "# People can be very tall!\n",
    "def sortByHeight(a):\n",
    "    for i, item in enumerate(a):\n",
    "            for y in range(i, len(a)):\n",
    "                if a[i] > a[y] and a[y] > 0:\n",
    "                    a[i], a[y] = a[y], a[i]\n",
    "    return a\n",
    "\n",
    "# If a[i] = -1, then the ith position is occupied by a tree.\n",
    "# Otherwise a[i] is the height of a person standing in the ith position."
   ]
  },
  {
   "cell_type": "code",
   "execution_count": 16,
   "metadata": {},
   "outputs": [
    {
     "data": {
      "text/plain": [
       "[-1, 150, 160, 170, -1, -1, 180, 190]"
      ]
     },
     "execution_count": 16,
     "metadata": {},
     "output_type": "execute_result"
    }
   ],
   "source": [
    "sortByHeight([-1, 150, 190, 170, -1, -1, 160, 180])"
   ]
  }
 ],
 "metadata": {
  "kernelspec": {
   "display_name": "Python 3",
   "language": "python",
   "name": "python3"
  },
  "language_info": {
   "codemirror_mode": {
    "name": "ipython",
    "version": 3
   },
   "file_extension": ".py",
   "mimetype": "text/x-python",
   "name": "python",
   "nbconvert_exporter": "python",
   "pygments_lexer": "ipython3",
   "version": "3.7.3"
  }
 },
 "nbformat": 4,
 "nbformat_minor": 2
}
