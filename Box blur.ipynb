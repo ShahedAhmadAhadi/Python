{
 "cells": [
  {
   "cell_type": "code",
   "execution_count": 44,
   "metadata": {},
   "outputs": [
    {
     "data": {
      "text/plain": [
       "[[39, 30, 26, 25, 31],\n",
       " [34, 37, 35, 32, 32],\n",
       " [38, 41, 44, 46, 42],\n",
       " [22, 24, 31, 39, 45],\n",
       " [37, 34, 36, 47, 59]]"
      ]
     },
     "execution_count": 44,
     "metadata": {},
     "output_type": "execute_result"
    }
   ],
   "source": [
    "# Last night you partied a little too hard.\n",
    "# Now there's a black and white photo of you that's about to go viral! You can't let this ruin your reputation,\n",
    "# so you want to apply the box blur algorithm to the photo to hide its content.\n",
    "\n",
    "# The pixels in the input image are represented as integers.\n",
    "# The algorithm distorts the input image in the following way:\n",
    "# Every pixel x in the output image has a value equal to the average value of the pixel values\n",
    "# from the 3 × 3 square that has its center at x, including x itself. All the pixels on the border of x are then removed.\n",
    "\n",
    "# Return the blurred image as an integer, with the fractions rounded down.\n",
    "\n",
    "\n",
    "\n",
    "from math import floor\n",
    "def boxBlur(image):\n",
    "    arr = []\n",
    "    start = 0\n",
    "    end = 3\n",
    "    inner_start = 0\n",
    "    inner_end = 3\n",
    "    total = 0\n",
    "    def app():\n",
    "        nonlocal total\n",
    "        nonlocal start\n",
    "        nonlocal end\n",
    "        nonlocal inner_start\n",
    "        nonlocal inner_end\n",
    "        for i in range(start, end):\n",
    "            for y in range(inner_start, inner_end):\n",
    "                total += image[i][y]\n",
    "        if inner_start == 0:\n",
    "            arr.append([floor(total / 9)])\n",
    "        elif inner_start != 0:\n",
    "            arr[start].append(floor(total / 9))\n",
    "        if len(image[0]) > inner_end:\n",
    "            inner_start += 1\n",
    "            inner_end += 1\n",
    "            total = 0\n",
    "            app()\n",
    "        elif len(image) > end:\n",
    "            start += 1\n",
    "            end += 1\n",
    "            inner_start = 0\n",
    "            inner_end = 3\n",
    "            total = 0\n",
    "            app()\n",
    "            \n",
    "    app()\n",
    "    return  arr\n",
    "        \n",
    "        \n",
    "\n",
    "boxBlur([[36,0,18,9,9,45,27], \n",
    "         [27,0,54,9,0,63,90], \n",
    "         [81,63,72,45,18,27,0], \n",
    "         [0,0,9,81,27,18,45], \n",
    "         [45,45,27,27,90,81,72], \n",
    "         [45,18,9,0,9,18,45], \n",
    "         [27,81,36,63,63,72,81]])"
   ]
  },
  {
   "cell_type": "markdown",
   "metadata": {},
   "source": [
    "https://app.codesignal.com/arcade/intro/level-5/5xPitc3yT3dqS7XkP \n",
    "For more details!"
   ]
  }
 ],
 "metadata": {
  "kernelspec": {
   "display_name": "Python 3",
   "language": "python",
   "name": "python3"
  },
  "language_info": {
   "codemirror_mode": {
    "name": "ipython",
    "version": 3
   },
   "file_extension": ".py",
   "mimetype": "text/x-python",
   "name": "python",
   "nbconvert_exporter": "python",
   "pygments_lexer": "ipython3",
   "version": "3.7.3"
  }
 },
 "nbformat": 4,
 "nbformat_minor": 2
}
