{
 "cells": [
  {
   "cell_type": "code",
   "execution_count": null,
   "metadata": {},
   "outputs": [],
   "source": [
    "def areSimilar(A, B):\n",
    "\n",
    "    r = []\n",
    "    for i in range(len(A)):\n",
    "        if A[i] != B[i]:\n",
    "            r.append([A[i],B[i]])\n",
    "            \n",
    "    if len(r) == 0 or len(r) == 2 and r[0]==r[1][::-1]:\n",
    "        return True\n",
    "    return False\n",
    "\n",
    "areSimilar([1, 2, 5], [5, ])"
   ]
  }
 ],
 "metadata": {
  "kernelspec": {
   "display_name": "Python 3",
   "language": "python",
   "name": "python3"
  },
  "language_info": {
   "codemirror_mode": {
    "name": "ipython",
    "version": 3
   },
   "file_extension": ".py",
   "mimetype": "text/x-python",
   "name": "python",
   "nbconvert_exporter": "python",
   "pygments_lexer": "ipython3",
   "version": "3.7.3"
  }
 },
 "nbformat": 4,
 "nbformat_minor": 2
}
