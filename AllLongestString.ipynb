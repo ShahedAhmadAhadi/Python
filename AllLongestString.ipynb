{
 "cells": [
  {
   "cell_type": "code",
   "execution_count": 4,
   "metadata": {},
   "outputs": [],
   "source": [
    "input_array = [\"aba\", \"aa\", \"ad\", \"vcd\", \"aba\"]"
   ]
  },
  {
   "cell_type": "code",
   "execution_count": 5,
   "metadata": {},
   "outputs": [],
   "source": [
    "def all_longest_strings(inp_arr):\n",
    "    \n",
    "    length = 0\n",
    "    all_longest_array = []\n",
    "    \n",
    "    for x in range(len(inp_arr)):\n",
    "        \n",
    "        if len(inp_arr[x]) == length:\n",
    "            all_longest_array.append(inp_arr[x])\n",
    "            \n",
    "        elif len(inp_arr[x]) > length:\n",
    "            length = len(inp_arr[x])\n",
    "            all_longest_array = [inp_arr[x]]\n",
    "            \n",
    "    return all_longest_array            "
   ]
  },
  {
   "cell_type": "code",
   "execution_count": 6,
   "metadata": {},
   "outputs": [
    {
     "data": {
      "text/plain": [
       "['aba', 'vcd', 'aba']"
      ]
     },
     "execution_count": 6,
     "metadata": {},
     "output_type": "execute_result"
    }
   ],
   "source": [
    "all_longest_strings(input_array)"
   ]
  }
 ],
 "metadata": {
  "kernelspec": {
   "display_name": "Python 3",
   "language": "python",
   "name": "python3"
  },
  "language_info": {
   "codemirror_mode": {
    "name": "ipython",
    "version": 3
   },
   "file_extension": ".py",
   "mimetype": "text/x-python",
   "name": "python",
   "nbconvert_exporter": "python",
   "pygments_lexer": "ipython3",
   "version": "3.7.3"
  }
 },
 "nbformat": 4,
 "nbformat_minor": 2
}
