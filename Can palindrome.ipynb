{
 "cells": [
  {
   "cell_type": "code",
   "execution_count": 2,
   "metadata": {},
   "outputs": [
    {
     "data": {
      "text/plain": [
       "True"
      ]
     },
     "execution_count": 2,
     "metadata": {},
     "output_type": "execute_result"
    }
   ],
   "source": [
    "def is_palindrome(string):\n",
    "    if string == string[::-1]:\n",
    "        return True\n",
    "    else:\n",
    "        lst_ =[]\n",
    "        for i in string:\n",
    "            if string.count(i) % 2 != 0 and lst_ == []:\n",
    "                lst_.append(i)\n",
    "            elif string.count(i) % 2 != 0 and i in lst_:\n",
    "                continue\n",
    "            elif string.count(i) % 2 != 0 and  i not in lst_:\n",
    "                return False\n",
    "        if len(lst_) % 2 != 0 or lst_ == []:\n",
    "            return True\n",
    "        else:\n",
    "            return False\n",
    "        \n",
    "is_palindrome('anabbaa')"
   ]
  },
  {
   "cell_type": "code",
   "execution_count": null,
   "metadata": {},
   "outputs": [],
   "source": []
  }
 ],
 "metadata": {
  "kernelspec": {
   "display_name": "Python 3",
   "language": "python",
   "name": "python3"
  },
  "language_info": {
   "codemirror_mode": {
    "name": "ipython",
    "version": 3
   },
   "file_extension": ".py",
   "mimetype": "text/x-python",
   "name": "python",
   "nbconvert_exporter": "python",
   "pygments_lexer": "ipython3",
   "version": "3.7.3"
  }
 },
 "nbformat": 4,
 "nbformat_minor": 2
}
