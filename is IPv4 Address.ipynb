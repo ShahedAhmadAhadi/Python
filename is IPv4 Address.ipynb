{
 "cells": [
  {
   "cell_type": "code",
   "execution_count": 152,
   "metadata": {},
   "outputs": [
    {
     "data": {
      "text/plain": [
       "True"
      ]
     },
     "execution_count": 152,
     "metadata": {},
     "output_type": "execute_result"
    }
   ],
   "source": [
    "def isIPv4Address(inputString):\n",
    "    arr = inputString.split('.')\n",
    "    if len(arr) > 4 or len(arr) < 2:\n",
    "        return False\n",
    "    for i in range(len(arr)):\n",
    "        if not arr[i].isnumeric():\n",
    "            return False\n",
    "        elif (len(arr[i]) > 1) and (arr[i][0] == '0'):\n",
    "            return False\n",
    "        elif int(arr[i]) not in range(256):\n",
    "            return False\n",
    "    return True\n",
    "            \n",
    "\n",
    "isIPv4Address('0.254.255.0')"
   ]
  },
  {
   "cell_type": "code",
   "execution_count": null,
   "metadata": {},
   "outputs": [],
   "source": []
  }
 ],
 "metadata": {
  "kernelspec": {
   "display_name": "Python 3",
   "language": "python",
   "name": "python3"
  },
  "language_info": {
   "codemirror_mode": {
    "name": "ipython",
    "version": 3
   },
   "file_extension": ".py",
   "mimetype": "text/x-python",
   "name": "python",
   "nbconvert_exporter": "python",
   "pygments_lexer": "ipython3",
   "version": "3.7.3"
  }
 },
 "nbformat": 4,
 "nbformat_minor": 2
}
