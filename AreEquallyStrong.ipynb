{
 "cells": [
  {
   "cell_type": "code",
   "execution_count": null,
   "metadata": {},
   "outputs": [],
   "source": [
    "# Call two arms equally strong if the heaviest weights they each are able to lift are equal.\n",
    "\n",
    "# Call two people equally strong if their strongest arms are equally strong (the strongest arm can be both the right and the left), and so are their weakest arms.\n",
    "\n",
    "# Given your and your friend's arms' lifting capabilities find out if you two are equally strong.\n",
    "\n",
    "\n",
    "def areEquallyStrong(yourLeft, yourRight, friendsLeft, friendsRight):\n",
    "    a = [yourRight, yourLeft]\n",
    "    b = [friendsRight, friendsLeft]\n",
    "    if max(a) == max(b) and min(a) == min(b):\n",
    "        return True\n",
    "    else:\n",
    "        return False\n"
   ]
  }
 ],
 "metadata": {
  "kernelspec": {
   "display_name": "Python 3",
   "language": "python",
   "name": "python3"
  },
  "language_info": {
   "codemirror_mode": {
    "name": "ipython",
    "version": 3
   },
   "file_extension": ".py",
   "mimetype": "text/x-python",
   "name": "python",
   "nbconvert_exporter": "python",
   "pygments_lexer": "ipython3",
   "version": "3.7.3"
  }
 },
 "nbformat": 4,
 "nbformat_minor": 2
}
