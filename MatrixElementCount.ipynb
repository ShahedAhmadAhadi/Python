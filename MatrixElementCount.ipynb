{
 "cells": [
  {
   "cell_type": "code",
   "execution_count": 64,
   "metadata": {},
   "outputs": [
    {
     "data": {
      "text/plain": [
       "9"
      ]
     },
     "execution_count": 64,
     "metadata": {},
     "output_type": "execute_result"
    }
   ],
   "source": [
    "\"\"\"\n",
    "After becoming famous, the CodeBots decided to move into a new building together.\n",
    "Each of the rooms has a different cost, and some of them are free, but there's a rumour\n",
    "that all the free rooms are haunted! Since the CodeBots are quite superstitious, they\n",
    "refuse to stay in any of the free rooms, or any of the rooms below any of the free rooms.\n",
    "\"\"\"\n",
    "\n",
    "lst = [[0, 1, 1, 2],\n",
    "       [0, 5, 0, 0],\n",
    "       [2, 0, 3, 3]]\n",
    "\n",
    "def matrixElementsSum(matrix):\n",
    "    all_count = 0\n",
    "    not_include = []\n",
    "    for in_arr in matrix:\n",
    "        for j, item in enumerate(in_arr):\n",
    "            if item == 0:\n",
    "                not_include.append(j)\n",
    "            if item != 0 and in_arr.index(item) not in not_include:\n",
    "                all_count += item\n",
    "                \n",
    "    \n",
    "    return all_count\n",
    "\n",
    "matrixElementsSum(lst)"
   ]
  }
 ],
 "metadata": {
  "kernelspec": {
   "display_name": "Python 3",
   "language": "python",
   "name": "python3"
  },
  "language_info": {
   "codemirror_mode": {
    "name": "ipython",
    "version": 3
   },
   "file_extension": ".py",
   "mimetype": "text/x-python",
   "name": "python",
   "nbconvert_exporter": "python",
   "pygments_lexer": "ipython3",
   "version": "3.7.3"
  }
 },
 "nbformat": 4,
 "nbformat_minor": 2
}
