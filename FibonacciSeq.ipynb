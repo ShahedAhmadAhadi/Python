{
 "cells": [
  {
   "cell_type": "code",
   "execution_count": null,
   "metadata": {},
   "outputs": [],
   "source": [
    "def febo(num):\n",
    "    first = 0\n",
    "    collector = []\n",
    "    for i in range(num + 1):\n",
    "        if i < 2:\n",
    "            collector.append(first)\n",
    "            first += 1\n",
    "        elif i > 1:\n",
    "            first = collector[i - 1] + collector[i - 2]\n",
    "            collector.append(first)\n",
    "        \n",
    "    return collector\n",
    "\n",
    "    \n",
    "\n",
    "febo(20)"
   ]
  }
 ],
 "metadata": {
  "kernelspec": {
   "display_name": "Python 3",
   "language": "python",
   "name": "python3"
  },
  "language_info": {
   "codemirror_mode": {
    "name": "ipython",
    "version": 3
   },
   "file_extension": ".py",
   "mimetype": "text/x-python",
   "name": "python",
   "nbconvert_exporter": "python",
   "pygments_lexer": "ipython3",
   "version": "3.7.3"
  }
 },
 "nbformat": 4,
 "nbformat_minor": 2
}
