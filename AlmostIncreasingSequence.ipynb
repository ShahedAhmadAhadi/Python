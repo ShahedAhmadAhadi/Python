{
 "cells": [
  {
   "cell_type": "code",
   "execution_count": 186,
   "metadata": {},
   "outputs": [
    {
     "data": {
      "text/plain": [
       "True"
      ]
     },
     "execution_count": 186,
     "metadata": {},
     "output_type": "execute_result"
    }
   ],
   "source": [
    "lst = [1, 3, 2]\n",
    "def almostIncreasingSequence(sequence):\n",
    "    droppped = False\n",
    "    last = prev = min(sequence) - 1\n",
    "    for elm in sequence:\n",
    "        if elm <= last:\n",
    "            if droppped:\n",
    "                return False\n",
    "            else:\n",
    "                droppped = True\n",
    "            if elm <= prev:\n",
    "                prev = last\n",
    "            elif elm >= prev:\n",
    "                prev = last = elm\n",
    "        else:\n",
    "            prev, last = last, elm\n",
    "    return True\n",
    "\n",
    "almostIncreasingSequence(lst)"
   ]
  },
  {
   "cell_type": "code",
   "execution_count": null,
   "metadata": {},
   "outputs": [],
   "source": []
  }
 ],
 "metadata": {
  "kernelspec": {
   "display_name": "Python 3",
   "language": "python",
   "name": "python3"
  },
  "language_info": {
   "codemirror_mode": {
    "name": "ipython",
    "version": 3
   },
   "file_extension": ".py",
   "mimetype": "text/x-python",
   "name": "python",
   "nbconvert_exporter": "python",
   "pygments_lexer": "ipython3",
   "version": "3.7.3"
  }
 },
 "nbformat": 4,
 "nbformat_minor": 2
}
