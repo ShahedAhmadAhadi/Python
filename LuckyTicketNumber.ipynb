{
 "cells": [
  {
   "cell_type": "code",
   "execution_count": 35,
   "metadata": {},
   "outputs": [],
   "source": [
    "from random import randint\n",
    "\n",
    "def random_():\n",
    "    return randint(0, 1000000 - 1)\n",
    "\n",
    "def valid_ticket():\n",
    "    ran = random_()\n",
    "    while len(str(ran)) % 2 != 0:\n",
    "        print(ran)\n",
    "        ran = random_()\n",
    "    return ran\n",
    "\n",
    "def winner():\n",
    "    ticket_number = valid_ticket()\n",
    "    full_ticket_number = str(ticket_number)\n",
    "    print(full_ticket_number)\n",
    "    first_part_number = full_ticket_number[:int((len(full_ticket_number) / 2))]\n",
    "    second_part_number = full_ticket_number[int((len(full_ticket_number) / 2)): len(full_ticket_number)]\n",
    "    print(first_part_number, second_part_number)\n",
    "    \n",
    "    first_part_total = 0\n",
    "    second_part_total = 0\n",
    "    for x in range(len(first_part_number)):\n",
    "        first_part_total += int(first_part_number[x])\n",
    "        second_part_total += int(second_part_number[x])\n",
    "    \n",
    "    print(first_part_total, second_part_total)\n",
    "    if first_part_total == second_part_total:\n",
    "        return True\n",
    "    else:\n",
    "        return False    "
   ]
  },
  {
   "cell_type": "code",
   "execution_count": 46,
   "metadata": {},
   "outputs": [
    {
     "name": "stdout",
     "output_type": "stream",
     "text": [
      "469379\n",
      "469 379\n",
      "19 19\n"
     ]
    },
    {
     "data": {
      "text/plain": [
       "True"
      ]
     },
     "execution_count": 46,
     "metadata": {},
     "output_type": "execute_result"
    }
   ],
   "source": [
    "winner()"
   ]
  },
  {
   "cell_type": "code",
   "execution_count": null,
   "metadata": {},
   "outputs": [],
   "source": []
  }
 ],
 "metadata": {
  "kernelspec": {
   "display_name": "Python 3",
   "language": "python",
   "name": "python3"
  },
  "language_info": {
   "codemirror_mode": {
    "name": "ipython",
    "version": 3
   },
   "file_extension": ".py",
   "mimetype": "text/x-python",
   "name": "python",
   "nbconvert_exporter": "python",
   "pygments_lexer": "ipython3",
   "version": "3.7.3"
  }
 },
 "nbformat": 4,
 "nbformat_minor": 2
}
