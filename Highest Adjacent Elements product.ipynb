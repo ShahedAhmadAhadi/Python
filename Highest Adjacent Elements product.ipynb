{
 "cells": [
  {
   "cell_type": "code",
   "execution_count": 54,
   "metadata": {},
   "outputs": [
    {
     "data": {
      "text/plain": [
       "35"
      ]
     },
     "execution_count": 54,
     "metadata": {},
     "output_type": "execute_result"
    }
   ],
   "source": [
    "lst = [1, 4, 5, 7, 2]\n",
    "\n",
    "\n",
    "def highest_product(inputArray):\n",
    "    high_pro = 0\n",
    "    for i in range(1, len(inputArray)):\n",
    "        \n",
    "        product = inputArray[i - 1] * inputArray[i]\n",
    "        \n",
    "        if product > high_pro:\n",
    "            high_pro = product\n",
    "            \n",
    "    return high_pro\n",
    "        \n",
    "highest_product(lst)"
   ]
  },
  {
   "cell_type": "code",
   "execution_count": null,
   "metadata": {},
   "outputs": [],
   "source": []
  }
 ],
 "metadata": {
  "kernelspec": {
   "display_name": "Python 3",
   "language": "python",
   "name": "python3"
  },
  "language_info": {
   "codemirror_mode": {
    "name": "ipython",
    "version": 3
   },
   "file_extension": ".py",
   "mimetype": "text/x-python",
   "name": "python",
   "nbconvert_exporter": "python",
   "pygments_lexer": "ipython3",
   "version": "3.7.3"
  }
 },
 "nbformat": 4,
 "nbformat_minor": 2
}
