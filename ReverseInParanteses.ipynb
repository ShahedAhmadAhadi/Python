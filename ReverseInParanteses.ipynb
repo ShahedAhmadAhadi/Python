{
 "cells": [
  {
   "cell_type": "code",
   "execution_count": 2,
   "metadata": {},
   "outputs": [
    {
     "data": {
      "text/plain": [
       "'foobazrabblim'"
      ]
     },
     "execution_count": 2,
     "metadata": {},
     "output_type": "execute_result"
    }
   ],
   "source": [
    "def reverseInParentheses(s):\n",
    "    for i in range(len(s)):\n",
    "        if s[i] == \"(\":\n",
    "            start = i\n",
    "        if s[i] == \")\":\n",
    "            end = i\n",
    "            return reverseInParentheses(s[:start] + s[start+1:end][::-1] + s[end+1:])\n",
    "    return s\n",
    "\n",
    "reverseInParentheses('foo(bar(baz))blim')"
   ]
  },
  {
   "cell_type": "code",
   "execution_count": null,
   "metadata": {},
   "outputs": [],
   "source": []
  }
 ],
 "metadata": {
  "kernelspec": {
   "display_name": "Python 3",
   "language": "python",
   "name": "python3"
  },
  "language_info": {
   "codemirror_mode": {
    "name": "ipython",
    "version": 3
   },
   "file_extension": ".py",
   "mimetype": "text/x-python",
   "name": "python",
   "nbconvert_exporter": "python",
   "pygments_lexer": "ipython3",
   "version": "3.7.3"
  }
 },
 "nbformat": 4,
 "nbformat_minor": 2
}
