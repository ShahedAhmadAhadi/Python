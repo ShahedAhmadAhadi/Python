{
 "cells": [
  {
   "cell_type": "code",
   "execution_count": 6,
   "metadata": {},
   "outputs": [],
   "source": [
    "def sort_(lst):\n",
    "    new_lst = lst.copy()\n",
    "    for x in range(len(new_lst)):\n",
    "        for y in range(x ,len(new_lst)):\n",
    "            if new_lst[x] > new_lst[y]:\n",
    "                new_lst[x], new_lst[y] = new_lst[y], new_lst[x]\n",
    "    return new_lst"
   ]
  },
  {
   "cell_type": "code",
   "execution_count": 15,
   "metadata": {},
   "outputs": [
    {
     "name": "stdout",
     "output_type": "stream",
     "text": [
      "[1, 13, 16, 20, 32, 38, 39, 43, 49, 53, 56, 71, 78, 85, 88, 91, 94, 94, 96, 98]\n"
     ]
    }
   ],
   "source": [
    "from random import randint\n",
    "lst = [randint(0, 100) for i in range(20)]\n",
    "new_lst = sort_(lst)\n",
    "print(new_lst)"
   ]
  }
 ],
 "metadata": {
  "kernelspec": {
   "display_name": "Python 3",
   "language": "python",
   "name": "python3"
  },
  "language_info": {
   "codemirror_mode": {
    "name": "ipython",
    "version": 3
   },
   "file_extension": ".py",
   "mimetype": "text/x-python",
   "name": "python",
   "nbconvert_exporter": "python",
   "pygments_lexer": "ipython3",
   "version": "3.7.3"
  }
 },
 "nbformat": 4,
 "nbformat_minor": 2
}
